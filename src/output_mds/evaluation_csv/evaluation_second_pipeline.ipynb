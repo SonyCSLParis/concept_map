{
 "cells": [
  {
   "cell_type": "code",
   "execution_count": 2,
   "metadata": {},
   "outputs": [],
   "source": [
    "import pandas as pd\n",
    "\n",
    "def open_csv_as_dataframe(csv_file_path):\n",
    "    try:\n",
    "        dataframe = pd.read_csv(csv_file_path)\n",
    "        return dataframe\n",
    "    except FileNotFoundError:\n",
    "        print(f\"File '{csv_file_path}' not found.\")"
   ]
  },
  {
   "cell_type": "code",
   "execution_count": 3,
   "metadata": {},
   "outputs": [],
   "source": [
    "dataframe = pd.read_csv(\"/Users/martina/Desktop/concept_map/src/output_mds/evaluation_csv/metrics_second_pipeline_chat_gpt.csv\")\n"
   ]
  },
  {
   "cell_type": "code",
   "execution_count": 4,
   "metadata": {},
   "outputs": [
    {
     "data": {
      "text/html": [
       "<div>\n",
       "<style scoped>\n",
       "    .dataframe tbody tr th:only-of-type {\n",
       "        vertical-align: middle;\n",
       "    }\n",
       "\n",
       "    .dataframe tbody tr th {\n",
       "        vertical-align: top;\n",
       "    }\n",
       "\n",
       "    .dataframe thead th {\n",
       "        text-align: right;\n",
       "    }\n",
       "</style>\n",
       "<table border=\"1\" class=\"dataframe\">\n",
       "  <thead>\n",
       "    <tr style=\"text-align: right;\">\n",
       "      <th></th>\n",
       "      <th>File</th>\n",
       "      <th>METEOR</th>\n",
       "      <th>ROUGE-1</th>\n",
       "      <th>ROUGE-2</th>\n",
       "      <th>ROUGE-L</th>\n",
       "    </tr>\n",
       "  </thead>\n",
       "  <tbody>\n",
       "    <tr>\n",
       "      <th>0</th>\n",
       "      <td>1040-merged.txt</td>\n",
       "      <td>0.204746</td>\n",
       "      <td>0.260870</td>\n",
       "      <td>0.026420</td>\n",
       "      <td>0.102767</td>\n",
       "    </tr>\n",
       "    <tr>\n",
       "      <th>1</th>\n",
       "      <td>1004-merged.txt</td>\n",
       "      <td>0.228525</td>\n",
       "      <td>0.327373</td>\n",
       "      <td>0.049655</td>\n",
       "      <td>0.151307</td>\n",
       "    </tr>\n",
       "    <tr>\n",
       "      <th>2</th>\n",
       "      <td>1018-merged.txt</td>\n",
       "      <td>0.215819</td>\n",
       "      <td>0.314050</td>\n",
       "      <td>0.040237</td>\n",
       "      <td>0.170012</td>\n",
       "    </tr>\n",
       "    <tr>\n",
       "      <th>3</th>\n",
       "      <td>1027-merged.txt</td>\n",
       "      <td>0.211715</td>\n",
       "      <td>0.288742</td>\n",
       "      <td>0.039841</td>\n",
       "      <td>0.098013</td>\n",
       "    </tr>\n",
       "    <tr>\n",
       "      <th>4</th>\n",
       "      <td>1028-merged.txt</td>\n",
       "      <td>0.173107</td>\n",
       "      <td>0.208986</td>\n",
       "      <td>0.012565</td>\n",
       "      <td>0.098224</td>\n",
       "    </tr>\n",
       "    <tr>\n",
       "      <th>5</th>\n",
       "      <td>1047-merged.txt</td>\n",
       "      <td>0.200946</td>\n",
       "      <td>0.230038</td>\n",
       "      <td>0.026667</td>\n",
       "      <td>0.100760</td>\n",
       "    </tr>\n",
       "    <tr>\n",
       "      <th>6</th>\n",
       "      <td>1044-merged.txt</td>\n",
       "      <td>0.197974</td>\n",
       "      <td>0.263435</td>\n",
       "      <td>0.050686</td>\n",
       "      <td>0.134879</td>\n",
       "    </tr>\n",
       "    <tr>\n",
       "      <th>7</th>\n",
       "      <td>1008-merged.txt</td>\n",
       "      <td>0.192815</td>\n",
       "      <td>0.203686</td>\n",
       "      <td>0.054422</td>\n",
       "      <td>0.112512</td>\n",
       "    </tr>\n",
       "    <tr>\n",
       "      <th>8</th>\n",
       "      <td>1023-merged.txt</td>\n",
       "      <td>0.183612</td>\n",
       "      <td>0.190096</td>\n",
       "      <td>0.035200</td>\n",
       "      <td>0.079872</td>\n",
       "    </tr>\n",
       "    <tr>\n",
       "      <th>9</th>\n",
       "      <td>1032-merged.txt</td>\n",
       "      <td>0.144544</td>\n",
       "      <td>0.182328</td>\n",
       "      <td>0.014065</td>\n",
       "      <td>0.106592</td>\n",
       "    </tr>\n",
       "    <tr>\n",
       "      <th>10</th>\n",
       "      <td>1013-merged.txt</td>\n",
       "      <td>0.178248</td>\n",
       "      <td>0.204868</td>\n",
       "      <td>0.006098</td>\n",
       "      <td>0.077079</td>\n",
       "    </tr>\n",
       "    <tr>\n",
       "      <th>11</th>\n",
       "      <td>1024-merged.txt</td>\n",
       "      <td>0.173015</td>\n",
       "      <td>0.198391</td>\n",
       "      <td>0.039391</td>\n",
       "      <td>0.098302</td>\n",
       "    </tr>\n",
       "    <tr>\n",
       "      <th>12</th>\n",
       "      <td>1046-merged.txt</td>\n",
       "      <td>0.210006</td>\n",
       "      <td>0.282678</td>\n",
       "      <td>0.061768</td>\n",
       "      <td>0.121148</td>\n",
       "    </tr>\n",
       "    <tr>\n",
       "      <th>13</th>\n",
       "      <td>1043-merged.txt</td>\n",
       "      <td>0.199320</td>\n",
       "      <td>0.248509</td>\n",
       "      <td>0.053785</td>\n",
       "      <td>0.127237</td>\n",
       "    </tr>\n",
       "    <tr>\n",
       "      <th>14</th>\n",
       "      <td>1030-merged.txt</td>\n",
       "      <td>0.203840</td>\n",
       "      <td>0.282869</td>\n",
       "      <td>0.037924</td>\n",
       "      <td>0.119522</td>\n",
       "    </tr>\n",
       "  </tbody>\n",
       "</table>\n",
       "</div>"
      ],
      "text/plain": [
       "               File    METEOR   ROUGE-1   ROUGE-2   ROUGE-L\n",
       "0   1040-merged.txt  0.204746  0.260870  0.026420  0.102767\n",
       "1   1004-merged.txt  0.228525  0.327373  0.049655  0.151307\n",
       "2   1018-merged.txt  0.215819  0.314050  0.040237  0.170012\n",
       "3   1027-merged.txt  0.211715  0.288742  0.039841  0.098013\n",
       "4   1028-merged.txt  0.173107  0.208986  0.012565  0.098224\n",
       "5   1047-merged.txt  0.200946  0.230038  0.026667  0.100760\n",
       "6   1044-merged.txt  0.197974  0.263435  0.050686  0.134879\n",
       "7   1008-merged.txt  0.192815  0.203686  0.054422  0.112512\n",
       "8   1023-merged.txt  0.183612  0.190096  0.035200  0.079872\n",
       "9   1032-merged.txt  0.144544  0.182328  0.014065  0.106592\n",
       "10  1013-merged.txt  0.178248  0.204868  0.006098  0.077079\n",
       "11  1024-merged.txt  0.173015  0.198391  0.039391  0.098302\n",
       "12  1046-merged.txt  0.210006  0.282678  0.061768  0.121148\n",
       "13  1043-merged.txt  0.199320  0.248509  0.053785  0.127237\n",
       "14  1030-merged.txt  0.203840  0.282869  0.037924  0.119522"
      ]
     },
     "execution_count": 4,
     "metadata": {},
     "output_type": "execute_result"
    }
   ],
   "source": [
    "dataframe"
   ]
  },
  {
   "cell_type": "code",
   "execution_count": 5,
   "metadata": {},
   "outputs": [],
   "source": [
    "df2 = dataframe['METEOR'].sum()"
   ]
  },
  {
   "cell_type": "code",
   "execution_count": 6,
   "metadata": {},
   "outputs": [
    {
     "data": {
      "text/plain": [
       "2.9182310070730337"
      ]
     },
     "execution_count": 6,
     "metadata": {},
     "output_type": "execute_result"
    }
   ],
   "source": [
    "df2"
   ]
  },
  {
   "cell_type": "code",
   "execution_count": 7,
   "metadata": {},
   "outputs": [],
   "source": [
    "df3 = dataframe['ROUGE-1'].sum()"
   ]
  },
  {
   "cell_type": "code",
   "execution_count": 8,
   "metadata": {},
   "outputs": [
    {
     "data": {
      "text/plain": [
       "3.68691810107444"
      ]
     },
     "execution_count": 8,
     "metadata": {},
     "output_type": "execute_result"
    }
   ],
   "source": [
    "df3"
   ]
  },
  {
   "cell_type": "code",
   "execution_count": 9,
   "metadata": {},
   "outputs": [],
   "source": [
    "df4 = dataframe['ROUGE-2'].sum()"
   ]
  },
  {
   "cell_type": "code",
   "execution_count": 10,
   "metadata": {},
   "outputs": [
    {
     "data": {
      "text/plain": [
       "0.5487231694151973"
      ]
     },
     "execution_count": 10,
     "metadata": {},
     "output_type": "execute_result"
    }
   ],
   "source": [
    "df4"
   ]
  },
  {
   "cell_type": "code",
   "execution_count": 11,
   "metadata": {},
   "outputs": [],
   "source": [
    "df5 = dataframe['ROUGE-L'].sum()"
   ]
  },
  {
   "cell_type": "code",
   "execution_count": 12,
   "metadata": {},
   "outputs": [
    {
     "data": {
      "text/plain": [
       "1.6982250463616995"
      ]
     },
     "execution_count": 12,
     "metadata": {},
     "output_type": "execute_result"
    }
   ],
   "source": [
    "df5"
   ]
  },
  {
   "cell_type": "code",
   "execution_count": null,
   "metadata": {},
   "outputs": [],
   "source": []
  }
 ],
 "metadata": {
  "kernelspec": {
   "display_name": "Python 3 (ipykernel)",
   "language": "python",
   "name": "python3"
  },
  "language_info": {
   "codemirror_mode": {
    "name": "ipython",
    "version": 3
   },
   "file_extension": ".py",
   "mimetype": "text/x-python",
   "name": "python",
   "nbconvert_exporter": "python",
   "pygments_lexer": "ipython3",
   "version": "3.9.6"
  }
 },
 "nbformat": 4,
 "nbformat_minor": 4
}