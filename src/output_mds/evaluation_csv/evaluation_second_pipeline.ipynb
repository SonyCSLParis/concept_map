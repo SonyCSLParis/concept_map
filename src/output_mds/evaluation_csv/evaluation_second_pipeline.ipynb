{
 "cells": [
  {
   "cell_type": "code",
   "execution_count": 1,
   "metadata": {},
   "outputs": [],
   "source": [
    "import pandas as pd\n",
    "\n",
    "def open_csv_as_dataframe(csv_file_path):\n",
    "    try:\n",
    "        dataframe = pd.read_csv(csv_file_path)\n",
    "        return dataframe\n",
    "    except FileNotFoundError:\n",
    "        print(f\"File '{csv_file_path}' not found.\")"
   ]
  },
  {
   "cell_type": "code",
   "execution_count": 2,
   "metadata": {},
   "outputs": [],
   "source": [
    "dataframe = pd.read_csv(\"/Users/martina/Downloads/concept_map-experiments/src/output_mds/evaluation_csv/metrics.csv\")\n"
   ]
  },
  {
   "cell_type": "code",
   "execution_count": 8,
   "metadata": {},
   "outputs": [
    {
     "data": {
      "text/plain": "                      File    METEOR   ROUGE-1   ROUGE-2   ROUGE-L\n0   1018-joint_summary.txt  0.161185  0.301038  0.017361  0.159170\n1   1030-joint_summary.txt  0.127451  0.232558  0.010772  0.100179\n2   1004-joint_summary.txt  0.102435  0.166320  0.004175  0.095634\n3   1028-joint_summary.txt  0.141580  0.175041  0.016260  0.077796\n4   1032-joint_summary.txt  0.107265  0.168103  0.012987  0.086207\n5   1040-joint_summary.txt  0.000000  0.000000  0.000000  0.000000\n6   1023-joint_summary.txt  0.000000  0.000000  0.000000  0.000000\n7   1013-joint_summary.txt  0.000000  0.000000  0.000000  0.000000\n8   1027-joint_summary.txt  0.159817  0.250000  0.020243  0.096774\n9   1044-joint_summary.txt  0.099483  0.177515  0.003960  0.082840\n10  1024-joint_summary.txt  0.000000  0.000000  0.000000  0.000000\n11  1047-joint_summary.txt  0.000000  0.000000  0.000000  0.000000\n12  1043-joint_summary.txt  0.131040  0.185958  0.011429  0.087287\n13  1046-joint_summary.txt  0.000000  0.000000  0.000000  0.000000\n14  1008-joint_summary.txt  0.000000  0.000000  0.000000  0.000000",
      "text/html": "<div>\n<style scoped>\n    .dataframe tbody tr th:only-of-type {\n        vertical-align: middle;\n    }\n\n    .dataframe tbody tr th {\n        vertical-align: top;\n    }\n\n    .dataframe thead th {\n        text-align: right;\n    }\n</style>\n<table border=\"1\" class=\"dataframe\">\n  <thead>\n    <tr style=\"text-align: right;\">\n      <th></th>\n      <th>File</th>\n      <th>METEOR</th>\n      <th>ROUGE-1</th>\n      <th>ROUGE-2</th>\n      <th>ROUGE-L</th>\n    </tr>\n  </thead>\n  <tbody>\n    <tr>\n      <th>0</th>\n      <td>1018-joint_summary.txt</td>\n      <td>0.161185</td>\n      <td>0.301038</td>\n      <td>0.017361</td>\n      <td>0.159170</td>\n    </tr>\n    <tr>\n      <th>1</th>\n      <td>1030-joint_summary.txt</td>\n      <td>0.127451</td>\n      <td>0.232558</td>\n      <td>0.010772</td>\n      <td>0.100179</td>\n    </tr>\n    <tr>\n      <th>2</th>\n      <td>1004-joint_summary.txt</td>\n      <td>0.102435</td>\n      <td>0.166320</td>\n      <td>0.004175</td>\n      <td>0.095634</td>\n    </tr>\n    <tr>\n      <th>3</th>\n      <td>1028-joint_summary.txt</td>\n      <td>0.141580</td>\n      <td>0.175041</td>\n      <td>0.016260</td>\n      <td>0.077796</td>\n    </tr>\n    <tr>\n      <th>4</th>\n      <td>1032-joint_summary.txt</td>\n      <td>0.107265</td>\n      <td>0.168103</td>\n      <td>0.012987</td>\n      <td>0.086207</td>\n    </tr>\n    <tr>\n      <th>5</th>\n      <td>1040-joint_summary.txt</td>\n      <td>0.000000</td>\n      <td>0.000000</td>\n      <td>0.000000</td>\n      <td>0.000000</td>\n    </tr>\n    <tr>\n      <th>6</th>\n      <td>1023-joint_summary.txt</td>\n      <td>0.000000</td>\n      <td>0.000000</td>\n      <td>0.000000</td>\n      <td>0.000000</td>\n    </tr>\n    <tr>\n      <th>7</th>\n      <td>1013-joint_summary.txt</td>\n      <td>0.000000</td>\n      <td>0.000000</td>\n      <td>0.000000</td>\n      <td>0.000000</td>\n    </tr>\n    <tr>\n      <th>8</th>\n      <td>1027-joint_summary.txt</td>\n      <td>0.159817</td>\n      <td>0.250000</td>\n      <td>0.020243</td>\n      <td>0.096774</td>\n    </tr>\n    <tr>\n      <th>9</th>\n      <td>1044-joint_summary.txt</td>\n      <td>0.099483</td>\n      <td>0.177515</td>\n      <td>0.003960</td>\n      <td>0.082840</td>\n    </tr>\n    <tr>\n      <th>10</th>\n      <td>1024-joint_summary.txt</td>\n      <td>0.000000</td>\n      <td>0.000000</td>\n      <td>0.000000</td>\n      <td>0.000000</td>\n    </tr>\n    <tr>\n      <th>11</th>\n      <td>1047-joint_summary.txt</td>\n      <td>0.000000</td>\n      <td>0.000000</td>\n      <td>0.000000</td>\n      <td>0.000000</td>\n    </tr>\n    <tr>\n      <th>12</th>\n      <td>1043-joint_summary.txt</td>\n      <td>0.131040</td>\n      <td>0.185958</td>\n      <td>0.011429</td>\n      <td>0.087287</td>\n    </tr>\n    <tr>\n      <th>13</th>\n      <td>1046-joint_summary.txt</td>\n      <td>0.000000</td>\n      <td>0.000000</td>\n      <td>0.000000</td>\n      <td>0.000000</td>\n    </tr>\n    <tr>\n      <th>14</th>\n      <td>1008-joint_summary.txt</td>\n      <td>0.000000</td>\n      <td>0.000000</td>\n      <td>0.000000</td>\n      <td>0.000000</td>\n    </tr>\n  </tbody>\n</table>\n</div>"
     },
     "execution_count": 3,
     "metadata": {},
     "output_type": "execute_result"
    },
    {
     "data": {
      "text/plain": "                      File    METEOR   ROUGE-1   ROUGE-2   ROUGE-L\n0   1018-joint_summary.txt  0.161185  0.301038  0.017361  0.159170\n1   1030-joint_summary.txt  0.127451  0.232558  0.010772  0.100179\n2   1004-joint_summary.txt  0.102435  0.166320  0.004175  0.095634\n3   1028-joint_summary.txt  0.141580  0.175041  0.016260  0.077796\n4   1032-joint_summary.txt  0.107265  0.168103  0.012987  0.086207\n5   1040-joint_summary.txt  0.000000  0.000000  0.000000  0.000000\n6   1023-joint_summary.txt  0.000000  0.000000  0.000000  0.000000\n7   1013-joint_summary.txt  0.000000  0.000000  0.000000  0.000000\n8   1027-joint_summary.txt  0.159817  0.250000  0.020243  0.096774\n9   1044-joint_summary.txt  0.099483  0.177515  0.003960  0.082840\n10  1024-joint_summary.txt  0.000000  0.000000  0.000000  0.000000\n11  1047-joint_summary.txt  0.000000  0.000000  0.000000  0.000000\n12  1043-joint_summary.txt  0.131040  0.185958  0.011429  0.087287\n13  1046-joint_summary.txt  0.000000  0.000000  0.000000  0.000000\n14  1008-joint_summary.txt  0.000000  0.000000  0.000000  0.000000",
      "text/html": "<div>\n<style scoped>\n    .dataframe tbody tr th:only-of-type {\n        vertical-align: middle;\n    }\n\n    .dataframe tbody tr th {\n        vertical-align: top;\n    }\n\n    .dataframe thead th {\n        text-align: right;\n    }\n</style>\n<table border=\"1\" class=\"dataframe\">\n  <thead>\n    <tr style=\"text-align: right;\">\n      <th></th>\n      <th>File</th>\n      <th>METEOR</th>\n      <th>ROUGE-1</th>\n      <th>ROUGE-2</th>\n      <th>ROUGE-L</th>\n    </tr>\n  </thead>\n  <tbody>\n    <tr>\n      <th>0</th>\n      <td>1018-joint_summary.txt</td>\n      <td>0.161185</td>\n      <td>0.301038</td>\n      <td>0.017361</td>\n      <td>0.159170</td>\n    </tr>\n    <tr>\n      <th>1</th>\n      <td>1030-joint_summary.txt</td>\n      <td>0.127451</td>\n      <td>0.232558</td>\n      <td>0.010772</td>\n      <td>0.100179</td>\n    </tr>\n    <tr>\n      <th>2</th>\n      <td>1004-joint_summary.txt</td>\n      <td>0.102435</td>\n      <td>0.166320</td>\n      <td>0.004175</td>\n      <td>0.095634</td>\n    </tr>\n    <tr>\n      <th>3</th>\n      <td>1028-joint_summary.txt</td>\n      <td>0.141580</td>\n      <td>0.175041</td>\n      <td>0.016260</td>\n      <td>0.077796</td>\n    </tr>\n    <tr>\n      <th>4</th>\n      <td>1032-joint_summary.txt</td>\n      <td>0.107265</td>\n      <td>0.168103</td>\n      <td>0.012987</td>\n      <td>0.086207</td>\n    </tr>\n    <tr>\n      <th>5</th>\n      <td>1040-joint_summary.txt</td>\n      <td>0.000000</td>\n      <td>0.000000</td>\n      <td>0.000000</td>\n      <td>0.000000</td>\n    </tr>\n    <tr>\n      <th>6</th>\n      <td>1023-joint_summary.txt</td>\n      <td>0.000000</td>\n      <td>0.000000</td>\n      <td>0.000000</td>\n      <td>0.000000</td>\n    </tr>\n    <tr>\n      <th>7</th>\n      <td>1013-joint_summary.txt</td>\n      <td>0.000000</td>\n      <td>0.000000</td>\n      <td>0.000000</td>\n      <td>0.000000</td>\n    </tr>\n    <tr>\n      <th>8</th>\n      <td>1027-joint_summary.txt</td>\n      <td>0.159817</td>\n      <td>0.250000</td>\n      <td>0.020243</td>\n      <td>0.096774</td>\n    </tr>\n    <tr>\n      <th>9</th>\n      <td>1044-joint_summary.txt</td>\n      <td>0.099483</td>\n      <td>0.177515</td>\n      <td>0.003960</td>\n      <td>0.082840</td>\n    </tr>\n    <tr>\n      <th>10</th>\n      <td>1024-joint_summary.txt</td>\n      <td>0.000000</td>\n      <td>0.000000</td>\n      <td>0.000000</td>\n      <td>0.000000</td>\n    </tr>\n    <tr>\n      <th>11</th>\n      <td>1047-joint_summary.txt</td>\n      <td>0.000000</td>\n      <td>0.000000</td>\n      <td>0.000000</td>\n      <td>0.000000</td>\n    </tr>\n    <tr>\n      <th>12</th>\n      <td>1043-joint_summary.txt</td>\n      <td>0.131040</td>\n      <td>0.185958</td>\n      <td>0.011429</td>\n      <td>0.087287</td>\n    </tr>\n    <tr>\n      <th>13</th>\n      <td>1046-joint_summary.txt</td>\n      <td>0.000000</td>\n      <td>0.000000</td>\n      <td>0.000000</td>\n      <td>0.000000</td>\n    </tr>\n    <tr>\n      <th>14</th>\n      <td>1008-joint_summary.txt</td>\n      <td>0.000000</td>\n      <td>0.000000</td>\n      <td>0.000000</td>\n      <td>0.000000</td>\n    </tr>\n  </tbody>\n</table>\n</div>"
     },
     "execution_count": 8,
     "metadata": {},
     "output_type": "execute_result"
    }
   ],
   "source": [
    "dataframe"
   ]
  },
  {
   "cell_type": "code",
   "execution_count": 9,
   "metadata": {},
   "outputs": [],
   "source": [
    "df2 = dataframe['METEOR'].sum()"
   ]
  },
  {
   "cell_type": "code",
   "execution_count": 6,
   "metadata": {},
   "outputs": [
    {
     "data": {
      "text/plain": "1.0302561685452705"
     },
     "execution_count": 6,
     "metadata": {},
     "output_type": "execute_result"
    }
   ],
   "source": [
    "df2"
   ]
  },
  {
   "cell_type": "code",
   "execution_count": 7,
   "metadata": {},
   "outputs": [],
   "source": [
    "df3 = dataframe['ROUGE-1'].sum()"
   ]
  },
  {
   "cell_type": "code",
   "execution_count": 8,
   "metadata": {},
   "outputs": [
    {
     "data": {
      "text/plain": [
       "1.6565333822220807"
      ]
     },
     "execution_count": 8,
     "metadata": {},
     "output_type": "execute_result"
    }
   ],
   "source": [
    "df3"
   ]
  },
  {
   "cell_type": "code",
   "execution_count": 9,
   "metadata": {},
   "outputs": [],
   "source": [
    "df4 = dataframe['ROUGE-2'].sum()"
   ]
  },
  {
   "cell_type": "code",
   "execution_count": 10,
   "metadata": {},
   "outputs": [
    {
     "data": {
      "text/plain": [
       "0.0971875273108213"
      ]
     },
     "execution_count": 10,
     "metadata": {},
     "output_type": "execute_result"
    }
   ],
   "source": [
    "df4"
   ]
  },
  {
   "cell_type": "code",
   "execution_count": 11,
   "metadata": {},
   "outputs": [],
   "source": [
    "df5 = dataframe['ROUGE-L'].sum()"
   ]
  },
  {
   "cell_type": "code",
   "execution_count": 12,
   "metadata": {},
   "outputs": [
    {
     "data": {
      "text/plain": [
       "0.7858861770459926"
      ]
     },
     "execution_count": 12,
     "metadata": {},
     "output_type": "execute_result"
    }
   ],
   "source": [
    "df5"
   ]
  },
  {
   "cell_type": "code",
   "execution_count": null,
   "metadata": {},
   "outputs": [],
   "source": []
  }
 ],
 "metadata": {
  "kernelspec": {
   "display_name": "Python 3",
   "language": "python",
   "name": "python3"
  },
  "language_info": {
   "codemirror_mode": {
    "name": "ipython",
    "version": 3
   },
   "file_extension": ".py",
   "mimetype": "text/x-python",
   "name": "python",
   "nbconvert_exporter": "python",
   "pygments_lexer": "ipython3",
   "version": "3.8.5"
  }
 },
 "nbformat": 4,
 "nbformat_minor": 4
}